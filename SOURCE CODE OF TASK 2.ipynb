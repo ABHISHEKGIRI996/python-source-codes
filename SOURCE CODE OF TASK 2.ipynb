{
 "cells": [
  {
   "cell_type": "markdown",
   "metadata": {},
   "source": [
    "# 1.SIMPLE INTREST"
   ]
  },
  {
   "cell_type": "code",
   "execution_count": 1,
   "metadata": {},
   "outputs": [
    {
     "name": "stdout",
     "output_type": "stream",
     "text": [
      "-_--_--_--_--_- SIMPLE INTREST -_--_--_--_--_-\n",
      "\n",
      "Enter Principal : 5000\n",
      "Enter Rate      : 8\n",
      "Enter Time      : 10\n",
      "Simple Intrest is  4000.0\n"
     ]
    }
   ],
   "source": [
    "def si(p,r,t):\n",
    "    s=(p*r*t)/100\n",
    "    return s\n",
    "\n",
    "print(\"-_-\"*5,\"SIMPLE INTREST\",\"-_-\"*5)\n",
    "print()\n",
    "p=int(input(\"Enter Principal : \"))\n",
    "r=int(input(\"Enter Rate      : \"))\n",
    "t=int(input(\"Enter Time      : \"))\n",
    "s1=si(p,r,t)\n",
    "print(\"Simple Intrest is \",s1)"
   ]
  },
  {
   "cell_type": "markdown",
   "metadata": {},
   "source": [
    "# 2.CALCULATE PROFIT OR LOSS"
   ]
  },
  {
   "cell_type": "code",
   "execution_count": 1,
   "metadata": {},
   "outputs": [
    {
     "name": "stdout",
     "output_type": "stream",
     "text": [
      "-_-_-_-_-_ PROFIT AND LOSS _-_-_-_-_-\n",
      "\n",
      "Enter your cost price of your product    : 50\n",
      "Enter your selling price of your product : 80\n",
      "You have a profit of 60.0%"
     ]
    }
   ],
   "source": [
    "def prof(cp,sp):\n",
    "    if (cp>sp):\n",
    "        pl=((cp-sp)/cp)*100\n",
    "        print(\"You have a loss of\",pl,end=\"%\")\n",
    "    elif (cp<sp):\n",
    "        pl=((sp-cp)/cp)*100\n",
    "        print(\"You have a profit of\",pl,end=\"%\")\n",
    "    else :\n",
    "        print(\"You dont't have any loss or profit\")\n",
    "\n",
    "print(\"-_\"*5,\"PROFIT AND LOSS\",\"_-\"*5)\n",
    "print()\n",
    "cp=int(input(\"Enter your cost price of your product    : \"))\n",
    "sp=int(input(\"Enter your selling price of your product : \"))\n",
    "\n",
    "prof(cp,sp)\n",
    "        "
   ]
  },
  {
   "cell_type": "markdown",
   "metadata": {},
   "source": [
    "# 3.Calculate the diagonal of a rectangle"
   ]
  },
  {
   "cell_type": "code",
   "execution_count": 2,
   "metadata": {},
   "outputs": [
    {
     "name": "stdout",
     "output_type": "stream",
     "text": [
      "-_-_-_-_-_ DAIGONAL _-_-_-_-_-\n",
      "\n",
      "Enter breadth of rectangle  : 3\n",
      "Enter area of rectangle     : 12\n",
      "Length of the rectangle is    4\n",
      "Diagonal of the rectangle is  5.0\n"
     ]
    }
   ],
   "source": [
    "from math import sqrt\n",
    "\n",
    "def dia(br,ar):\n",
    "    \n",
    "    ln=ar/br\n",
    "    d=sqrt(round(ln,2)**2+br**2)\n",
    "    return d,ln\n",
    "\n",
    "print(\"-_\"*5,\"DAIGONAL\",\"_-\"*5)\n",
    "print()\n",
    "br=int(input(\"Enter breadth of rectangle  : \"))\n",
    "ar=int(input(\"Enter area of rectangle     : \"))\n",
    "\n",
    "d1,l=dia(br,ar)\n",
    "print(\"Length of the rectangle is   \",int(l))\n",
    "print (\"Diagonal of the rectangle is \",round(d1,2))"
   ]
  },
  {
   "cell_type": "markdown",
   "metadata": {},
   "source": [
    "# 4.Farenheit <-> Celcius"
   ]
  },
  {
   "cell_type": "code",
   "execution_count": 4,
   "metadata": {},
   "outputs": [
    {
     "name": "stdout",
     "output_type": "stream",
     "text": [
      "---------- CELCIUS TO FARENHEIT ----------\n",
      "Enter Celcius between 0 to 40 : 45\n",
      "Invalid input !!!!!\n"
     ]
    }
   ],
   "source": [
    "def far_cel(t):\n",
    "    if (t>=0 and t<=40):\n",
    "        fr=t*1.8+32\n",
    "        print( t,\"celcius =\",round(fr,1),\"farenheit\")\n",
    "    else :\n",
    "        print(\"Invalid input !!!!!\")\n",
    "\n",
    "print(\"--\"*5,\"CELCIUS TO FARENHEIT\",\"--\"*5)\n",
    "c=int(input(\"Enter Celcius between 0 to 40 : \"))\n",
    "far_cel(c)\n"
   ]
  },
  {
   "cell_type": "markdown",
   "metadata": {},
   "source": [
    "# 5.TOTAL SURAFCE AREA OF CONE"
   ]
  },
  {
   "cell_type": "code",
   "execution_count": 9,
   "metadata": {},
   "outputs": [
    {
     "name": "stdout",
     "output_type": "stream",
     "text": [
      "----- TOTAL SURFACE AREA OF CONE -----\n",
      "Enter volume of cone : 98\n",
      "Enter height of cone   : 14\n",
      "2.5860970765174254\n",
      "Area of circular base      : 21.0\n",
      "Total surafce area of cone : 136.61\n"
     ]
    }
   ],
   "source": [
    "def tsa(vol,h):\n",
    "    \n",
    "    rad=sqrt((3*vol)/(3.14*h)) #radius of cone\n",
    "    l=sqrt(rad**2 + h**2)      #latent height \n",
    "    ar=3.14 * rad**2\n",
    "    total=3.14*rad*l + ar\n",
    "    print(\"Area of circular base      :\",round(ar,2))\n",
    "    print(\"Total surafce area of cone :\",round(total,2))\n",
    "\n",
    "print(\"-\"*5,\"TOTAL SURFACE AREA OF CONE\",\"-\"*5)\n",
    "vol=int(input(\"Enter volume of cone : \"))\n",
    "h=int(input(\"Enter height of cone   : \"))\n",
    "tsa(vol,h)"
   ]
  },
  {
   "cell_type": "markdown",
   "metadata": {},
   "source": [
    "# 6.sum and product of digits"
   ]
  },
  {
   "cell_type": "code",
   "execution_count": 12,
   "metadata": {},
   "outputs": [
    {
     "name": "stdout",
     "output_type": "stream",
     "text": [
      "----- SUM AND PRODUCT OF DIGIT -----\n",
      "Enter any integer : 3587\n",
      "Sum of Digit is : 23\n",
      "Product of Digit is : 840\n"
     ]
    }
   ],
   "source": [
    "def add(n1):\n",
    "    r=0\n",
    "    l=len(n1)\n",
    "    n=int(n1)\n",
    "    for i in range (1,l):\n",
    "        r = r + n%10\n",
    "        n = n //10\n",
    "    ad1=r+n\n",
    "    print(\"Sum of Digit is :\",ad1)\n",
    "def pro(n1):\n",
    "    r=1\n",
    "    l=len(n1)\n",
    "    n=int(n1)\n",
    "    for i in range (1,l):\n",
    "        r = r * (n%10)\n",
    "\n",
    "        n = n //10\n",
    "        \n",
    "    ad1=r*n\n",
    "    print(\"Product of Digit is :\",ad1)\n",
    "\n",
    "print(\"-\"*5,\"SUM AND PRODUCT OF DIGIT\",\"-\"*5)\n",
    "n=input(\"Enter any integer : \")\n",
    "add(n)\n",
    "pro(n)"
   ]
  },
  {
   "cell_type": "markdown",
   "metadata": {},
   "source": [
    "# 7. fibonaci series"
   ]
  },
  {
   "cell_type": "code",
   "execution_count": 7,
   "metadata": {},
   "outputs": [
    {
     "name": "stdout",
     "output_type": "stream",
     "text": [
      "-_-_-_-_-_ FIBONACI SERIES _-_-_-_-_-\n",
      "Enter your nth number : 9\n",
      "0\n",
      "1\n",
      "1\n",
      "2\n",
      "3\n",
      "5\n",
      "8\n",
      "13\n",
      "21\n"
     ]
    }
   ],
   "source": [
    "def fab(n):\n",
    "    a=0\n",
    "    b=1\n",
    "    print(a)\n",
    "    print(b)\n",
    "    for i in range(0,n-2) :\n",
    "        c=a+b\n",
    "        print(c)\n",
    "        a=b\n",
    "        b=c\n",
    "\n",
    "print(\"-_\"*5,\"FIBONACI SERIES\",\"_-\"*5)\n",
    "\n",
    "n=int(input(\"Enter your nth number : \"))\n",
    "fab(n)\n",
    "    "
   ]
  },
  {
   "cell_type": "markdown",
   "metadata": {},
   "source": [
    "# 8.Palindrome"
   ]
  },
  {
   "cell_type": "code",
   "execution_count": 8,
   "metadata": {},
   "outputs": [
    {
     "name": "stdout",
     "output_type": "stream",
     "text": [
      "-_-_-_-_-_ PALINDROME _-_-_-_-_-\n",
      "Enter any digit : 12321\n",
      "12321 Is a palindrome \n",
      "Enter any word : radar\n",
      "radar Is a palindrome \n"
     ]
    }
   ],
   "source": [
    "def pal(a):\n",
    "    r=0\n",
    "    l=len(a)\n",
    "    n=int(a)\n",
    "    n1=n\n",
    "    for i in range (1,l):\n",
    "        r = r*10 + n%10\n",
    "        n = n //10\n",
    "    ad1=r*10+n\n",
    "    if (n1==ad1):\n",
    "        print(ad1,\"Is a palindrome \")\n",
    "    else :\n",
    "        print(ad1,\"Is not a palindrome \")\n",
    "\n",
    "def palstr(s):\n",
    "    \n",
    "    s1=s[::-1]\n",
    "    if (s1==s):\n",
    "        print(s1,\"Is a palindrome \")\n",
    "    else :\n",
    "        print(s1,\"Is not a palindrome \")\n",
    "\n",
    "\n",
    "\n",
    "print(\"-_\"*5,\"PALINDROME\",\"_-\"*5)\n",
    "\n",
    "a=input(\"Enter any digit : \")\n",
    "pal(a)\n",
    "s=input(\"Enter any word : \")\n",
    "palstr(s)\n",
    "\n"
   ]
  },
  {
   "cell_type": "markdown",
   "metadata": {},
   "source": [
    "# 9.Armstrong"
   ]
  },
  {
   "cell_type": "code",
   "execution_count": 1,
   "metadata": {},
   "outputs": [
    {
     "name": "stdout",
     "output_type": "stream",
     "text": [
      "-_-_-_-_-_ ARMSTRONG _-_-_-_-_-\n",
      "Enter any integer : 1634\n",
      "1634 Is an armstrong  \n"
     ]
    }
   ],
   "source": [
    "def arm(a):\n",
    "    r=0\n",
    "    l=len(a)\n",
    "    n=int(a)\n",
    "    n1=n\n",
    "    for i in range (1,l):\n",
    "        r = r + (n%10)**l\n",
    "        n = n //10\n",
    "    ad1=r+(n**l)\n",
    "    if (n1==ad1):\n",
    "        print(ad1,\"Is an armstrong  \")\n",
    "    else :\n",
    "        print(ad1,\"Is not an armstrong \")\n",
    "\n",
    "print(\"-_\"*5,\"ARMSTRONG\",\"_-\"*5)\n",
    "a=input(\"Enter any integer : \")\n",
    "arm(a)"
   ]
  },
  {
   "cell_type": "markdown",
   "metadata": {},
   "source": [
    "# 10.Initials of given name"
   ]
  },
  {
   "cell_type": "code",
   "execution_count": 18,
   "metadata": {},
   "outputs": [
    {
     "name": "stdout",
     "output_type": "stream",
     "text": [
      "Enter your name : rock of kick man\n",
      "Initals of given string :  ROKM\n"
     ]
    }
   ],
   "source": [
    "def fl(s1):\n",
    "    st=\"\"\n",
    "    c=0\n",
    "    for i in range(len(s1)):\n",
    "        if (s1[i]==\" \"):\n",
    "            st=st+s1[i+1]\n",
    "            c=4\n",
    "            \n",
    "    if c>1 :\n",
    "        st1=s1[0]+st\n",
    "        print(\"Initals of given string : \",st1.upper())\n",
    "    else :\n",
    "#         print(st)\n",
    "        print(\"Initals of given string : \",s1[0].upper())\n",
    "\n",
    "s1=input(\"Enter your name : \")\n",
    "fl(s1)\n",
    "    "
   ]
  },
  {
   "cell_type": "markdown",
   "metadata": {},
   "source": [
    "# 11.number of uppercase ,lowercase and space characters"
   ]
  },
  {
   "cell_type": "code",
   "execution_count": 73,
   "metadata": {},
   "outputs": [
    {
     "name": "stdout",
     "output_type": "stream",
     "text": [
      "Enter any string : a \n",
      "Number of uppercase characters : 0\n",
      "Number of lowercase characters : 1\n",
      "Number of space characters     : 1\n"
     ]
    }
   ],
   "source": [
    "def uls(s1):\n",
    "    u=0\n",
    "    l=0\n",
    "    s=0\n",
    "    for i in range(len(s1)):\n",
    "        if (s1[i].isupper()):\n",
    "            u+=1\n",
    "        elif (s1[i].islower()):\n",
    "            l+=1\n",
    "        elif (s1[i]==\" \"):\n",
    "            s+=1\n",
    "    print(\"Number of uppercase characters :\",u)\n",
    "    print(\"Number of lowercase characters :\",l)\n",
    "    print(\"Number of space characters     :\",s)\n",
    "\n",
    "s1=input(\"Enter any string : \")\n",
    "uls(s1)"
   ]
  },
  {
   "cell_type": "markdown",
   "metadata": {},
   "source": [
    "# 12.PRIME"
   ]
  },
  {
   "cell_type": "code",
   "execution_count": 34,
   "metadata": {},
   "outputs": [
    {
     "name": "stdout",
     "output_type": "stream",
     "text": [
      "-_-_-_-_-_ PRIME NUMBER _-_-_-_-_-\n",
      "Enter any number : 24\n",
      "24 is not a prime number \n"
     ]
    }
   ],
   "source": [
    "def prime(n):\n",
    "    c=0\n",
    "    for i in range(2,n):\n",
    "        if (n%i==0):\n",
    "            c=4\n",
    "    return c\n",
    "\n",
    "print(\"-_\"*5,\"PRIME NUMBER\",\"_-\"*5)\n",
    "n=int(input(\"Enter any number : \"))\n",
    "sol=prime(n)\n",
    "if (sol>0):\n",
    "    print(n,\"is not a prime number \")\n",
    "else:\n",
    "    print(n,\"is a prime number \")\n",
    "            "
   ]
  },
  {
   "cell_type": "code",
   "execution_count": null,
   "metadata": {},
   "outputs": [],
   "source": []
  }
 ],
 "metadata": {
  "kernelspec": {
   "display_name": "Python 3",
   "language": "python",
   "name": "python3"
  },
  "language_info": {
   "codemirror_mode": {
    "name": "ipython",
    "version": 3
   },
   "file_extension": ".py",
   "mimetype": "text/x-python",
   "name": "python",
   "nbconvert_exporter": "python",
   "pygments_lexer": "ipython3",
   "version": "3.8.3"
  }
 },
 "nbformat": 4,
 "nbformat_minor": 4
}
