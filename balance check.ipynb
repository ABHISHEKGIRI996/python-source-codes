{
 "cells": [
  {
   "cell_type": "markdown",
   "metadata": {},
   "source": [
    "# TO CHECK BALANCE FOR GIVEN DEPOSIT AND WITHDRAWAL AMOUNT"
   ]
  },
  {
   "cell_type": "code",
   "execution_count": 9,
   "metadata": {},
   "outputs": [
    {
     "name": "stdout",
     "output_type": "stream",
     "text": [
      "Enter your number of inputs : 3\n",
      "do you want to Deposit or Withdraw (D/W)d\n",
      "Enter Your Deposit amount :65000\n",
      "\n",
      "do you want to Deposit or Withdraw (D/W)w\n",
      "Enter your Withdrawal amount :2000\n",
      "\n",
      "do you want to Deposit or Withdraw (D/W)d\n",
      "Enter Your Deposit amount :6000\n",
      "\n",
      "-_-_-_-_-_-_-_-_-_-_-_-_-_-_-_-_-_-_-_-_\n",
      "Your total deposit amount    = 71000\n",
      "Your total Withdrawal amount = 2000\n",
      "Your total balance           = 69000\n",
      "-_-_-_-_-_-_-_-_-_-_-_-_-_-_-_-_-_-_-_-_\n"
     ]
    }
   ],
   "source": [
    "n=int(input(\"Enter your number of inputs : \"))\n",
    "\n",
    "total_dep = 0\n",
    "total_wid = 0\n",
    "i=0\n",
    "while i<n:\n",
    "    ch = input(\"do you want to Deposit or Withdraw (D/W)\")\n",
    "    if (i==0 and (ch == 'w' or ch == 'W')) :\n",
    "        print(\"Can't withdraw any amount without any deposit \")\n",
    "        i=i-1\n",
    "    else:\n",
    "        if (ch=='D' or ch == 'd'):\n",
    "            dep=int(input(\"Enter Your Deposit amount :\"))\n",
    "            print()\n",
    "            total_dep+=dep\n",
    "        elif(ch=='W' or ch == 'w'):\n",
    "            wid=int(input(\"Enter your Withdrawal amount :\"))\n",
    "            print()\n",
    "            total_wid+=wid\n",
    "        else:\n",
    "            print(\"You entered a wrong choice !!!!!!!!\")\n",
    "            i=i-1\n",
    "    i=i+1\n",
    "if (total_dep<total_wid):\n",
    "    print(\"Your Withdrawal amount can't be greater than Deposit amount \")\n",
    "else :\n",
    "    bal=total_dep-total_wid\n",
    "    print(\"-_\"*20)\n",
    "    print(\"Your total deposit amount    =\",total_dep)\n",
    "    print(\"Your total Withdrawal amount =\",total_wid)\n",
    "    print(\"Your total balance           =\",bal)\n",
    "    print(\"-_\"*20)"
   ]
  },
  {
   "cell_type": "code",
   "execution_count": null,
   "metadata": {},
   "outputs": [],
   "source": []
  }
 ],
 "metadata": {
  "kernelspec": {
   "display_name": "Python 3",
   "language": "python",
   "name": "python3"
  },
  "language_info": {
   "codemirror_mode": {
    "name": "ipython",
    "version": 3
   },
   "file_extension": ".py",
   "mimetype": "text/x-python",
   "name": "python",
   "nbconvert_exporter": "python",
   "pygments_lexer": "ipython3",
   "version": "3.8.3"
  }
 },
 "nbformat": 4,
 "nbformat_minor": 4
}
