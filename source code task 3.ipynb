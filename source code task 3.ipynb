{
 "cells": [
  {
   "cell_type": "markdown",
   "metadata": {},
   "source": [
    "# QUESTION 1.\n",
    "## For a gievn dict . d1 ={'a':34,'b':15,'c':78,'d':50,'e':67}. Find difference keys with largest and smallest values. Also calulate difference between these values"
   ]
  },
  {
   "cell_type": "code",
   "execution_count": 8,
   "metadata": {},
   "outputs": [
    {
     "name": "stdout",
     "output_type": "stream",
     "text": [
      "Minimum key valuable : b 15\n",
      "Maximum key valuable : c 78\n",
      "Difference between max and minimum value : 63\n"
     ]
    }
   ],
   "source": [
    "d1 = {'a':34,'b':15,'c':78,'d':50,'e':67}\n",
    "v1 = list(d1.values())\n",
    "k1 = list(d1.keys())\n",
    "mi=min(l1)\n",
    "ma=max(l1)\n",
    "kmi=k1[v1.index(mi)]\n",
    "print(\"Minimum key valuable :\",kmi,d1[kmi])\n",
    "kma=k1[v1.index(ma)]\n",
    "print(\"Maximum key valuable :\",kma,d1[kma])\n",
    "\n",
    "dif=ma-mi\n",
    "print(\"Difference between max and minimum value :\",dif)"
   ]
  },
  {
   "cell_type": "markdown",
   "metadata": {},
   "source": [
    "# QUESTION 2."
   ]
  },
  {
   "cell_type": "markdown",
   "metadata": {},
   "source": [
    "# From a given list of marks, find the marks of the second highest student from a list of marks"
   ]
  },
  {
   "cell_type": "code",
   "execution_count": 49,
   "metadata": {},
   "outputs": [
    {
     "name": "stdout",
     "output_type": "stream",
     "text": [
      "Name and marks of the second highest student : abhishek 75\n"
     ]
    }
   ],
   "source": [
    "d2 = {'abhishek':75,'dev':15,'utkarsh':78,'ashi':50,'rafi':67}\n",
    "vl = list(d2.values())\n",
    "sl = list(d2.values())\n",
    "kl = list(d2.keys())\n",
    "\n",
    "sl.sort(reverse=True)\n",
    "val = sl[1]\n",
    "k2 = kl[vl.index(val)]\n",
    "print(\"Name and marks of the second highest student :\",k2,d2[k2])"
   ]
  },
  {
   "cell_type": "markdown",
   "metadata": {},
   "source": [
    "# QUESTION 3. "
   ]
  },
  {
   "cell_type": "markdown",
   "metadata": {},
   "source": [
    "## Create a function to generate a list containing common elements of two given lists. w1 = [1,2,3,4,67,78],w2 = [45,78,3,11,109]"
   ]
  },
  {
   "cell_type": "code",
   "execution_count": 55,
   "metadata": {},
   "outputs": [
    {
     "name": "stdout",
     "output_type": "stream",
     "text": [
      "List 1 :  [1, 2, 3, 4, 67, 78]\n",
      "List 2 :  [45, 78, 3, 11, 109]\n",
      "New common list [3, 78]\n"
     ]
    }
   ],
   "source": [
    "w1=[1,2,3,4,67,78]\n",
    "w2=[45,78,3,11,109]\n",
    "w3=[]\n",
    "print(\"List 1 : \",w1)\n",
    "print(\"List 2 : \",w2)\n",
    "for i in range(6):\n",
    "    for j in range(5):\n",
    "        if (w1[i]==w2[j]):\n",
    "            w3.append(w1[i])\n",
    "print(\"New common list\",w3)\n",
    "            "
   ]
  },
  {
   "cell_type": "markdown",
   "metadata": {},
   "source": [
    "# QUESTION 4."
   ]
  },
  {
   "cell_type": "markdown",
   "metadata": {},
   "source": [
    "## Write a program that takes a list of words and returns the length of longest word and print the longest word as well. Assume any list of words"
   ]
  },
  {
   "cell_type": "code",
   "execution_count": 67,
   "metadata": {},
   "outputs": [
    {
     "name": "stdout",
     "output_type": "stream",
     "text": [
      "list :  ['apple', 'mango', 'river', 'orange', 'lake', 'rock', 'elephant', 'pencil']\n",
      "Largest word is elephant with 8 words\n"
     ]
    }
   ],
   "source": [
    "list1=['apple','mango','river','orange','lake','rock','elephant','pencil']\n",
    "d1={}\n",
    "for i in range (len(list1)):\n",
    "    d1[list1[i]]=len(list1[i])\n",
    "k1=list(d1.keys())\n",
    "v1=list(d1.values())\n",
    "m=max(v1)\n",
    "kv=k1[v1.index(m)]\n",
    "print(\"list : \",list1)\n",
    "print(\"Largest word is\",kv,\"with\",d1[kv],\"words\")"
   ]
  },
  {
   "cell_type": "markdown",
   "metadata": {},
   "source": [
    "# QUESTION 5."
   ]
  },
  {
   "cell_type": "markdown",
   "metadata": {},
   "source": [
    "## Sort even-placed elements (according to thier index) in decreasing and odd-placed in increasing order. Assume any list of numbers"
   ]
  },
  {
   "cell_type": "code",
   "execution_count": 68,
   "metadata": {},
   "outputs": [
    {
     "name": "stdout",
     "output_type": "stream",
     "text": [
      "List : [54, 5, 56, 20, 34, 9, 87, 10, 32, 65, 20, 10, 32, 59, 63, 21, 12, 78, 88, 22]\n",
      "Even decreasing order list : [88, 87, 63, 56, 54, 34, 32, 32, 20, 12]\n",
      "Odd increasing order list  : [5, 9, 10, 10, 20, 21, 22, 59, 65, 78]\n"
     ]
    }
   ],
   "source": [
    "l1=[54,5,56,20,34,9,87,10,32,65,20,10,32,59,63,21,12,78,88,22]\n",
    "even=[]\n",
    "odd=[]\n",
    "print(\"List :\",l1)\n",
    "for i in range(len(l1)):\n",
    "    if (i%2==0):\n",
    "        even.append(l1[i])\n",
    "    else :\n",
    "        odd.append(l1[i])\n",
    "even.sort(reverse=True)\n",
    "odd.sort()\n",
    "print(\"Even decreasing order list :\",even)\n",
    "print(\"Odd increasing order list  :\",odd)"
   ]
  },
  {
   "cell_type": "markdown",
   "metadata": {},
   "source": [
    "# QUESTION 6."
   ]
  },
  {
   "cell_type": "markdown",
   "metadata": {},
   "source": [
    "## Find the pair of numbers from a list which sum upto 20. Assume any list of numbers Given list -[3,8,17,8,19,12,11,2,4]"
   ]
  },
  {
   "cell_type": "code",
   "execution_count": 1,
   "metadata": {},
   "outputs": [
    {
     "name": "stdout",
     "output_type": "stream",
     "text": [
      "List : [3, 8, 17, 8, 19, 12, 11, 2, 4]\n",
      "pair : [[3, 17], [8, 12], [8, 12]]\n"
     ]
    }
   ],
   "source": [
    "l2 = [3,8,17,8,19,12,11,2,4]\n",
    "l3 = []\n",
    "\n",
    "print(\"List :\",l2)\n",
    "for i in range(len(l2)-1):\n",
    "    for j in range(i-1,len(l2)):\n",
    "        if (l2[i]+l2[j]==20):\n",
    "            l3.append([l2[i],l2[j]])\n",
    "\n",
    "print(\"pair :\",l3)"
   ]
  },
  {
   "cell_type": "markdown",
   "metadata": {},
   "source": [
    "# QUESTION 9."
   ]
  },
  {
   "cell_type": "markdown",
   "metadata": {},
   "source": [
    "## WAF to count the number of vowels in a given string. Assume any string"
   ]
  },
  {
   "cell_type": "code",
   "execution_count": 2,
   "metadata": {},
   "outputs": [
    {
     "name": "stdout",
     "output_type": "stream",
     "text": [
      "Enter any sentence :abhishek is  very good boy \n",
      "Number of vowels : 8\n"
     ]
    }
   ],
   "source": [
    "def vowels(s):\n",
    "    v=0\n",
    "    for i in s :\n",
    "        if ('a'== i or 'A'== i):\n",
    "            v+=1\n",
    "        elif ('e' == i or 'E' == i):\n",
    "            v+=1\n",
    "        elif ('i' == i or 'I' == i):\n",
    "            v+=1\n",
    "        elif ('o' == i or 'O' == i):\n",
    "            v+=1\n",
    "        elif ('u' == i or 'U' == i):\n",
    "            v+=1\n",
    "    return v\n",
    "\n",
    "s=input(\"Enter any sentence :\")\n",
    "count=vowels(s)\n",
    "print(\"Number of vowels :\",count)"
   ]
  },
  {
   "cell_type": "markdown",
   "metadata": {},
   "source": [
    "# QUESTION 8."
   ]
  },
  {
   "cell_type": "markdown",
   "metadata": {},
   "source": [
    "## For the given list find the sum of marks of A,B,C,D and E\n",
    "## names =['A','C','D','E','B','C','B','A','C','D','E','D','A','B','E']\n",
    "## marks = [49,56,78,89,94,90,80,43,54,61,73,85,95,38,56]"
   ]
  },
  {
   "cell_type": "code",
   "execution_count": null,
   "metadata": {},
   "outputs": [],
   "source": []
  }
 ],
 "metadata": {
  "kernelspec": {
   "display_name": "Python 3",
   "language": "python",
   "name": "python3"
  },
  "language_info": {
   "codemirror_mode": {
    "name": "ipython",
    "version": 3
   },
   "file_extension": ".py",
   "mimetype": "text/x-python",
   "name": "python",
   "nbconvert_exporter": "python",
   "pygments_lexer": "ipython3",
   "version": "3.8.3"
  }
 },
 "nbformat": 4,
 "nbformat_minor": 4
}
